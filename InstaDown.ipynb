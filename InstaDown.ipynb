{
 "cells": [
  {
   "cell_type": "code",
   "execution_count": null,
   "id": "cb6603da",
   "metadata": {},
   "outputs": [],
   "source": [
    "#python script to download instagram image\n",
    "#if used as jupyter notebook you need to run it as administrator and this notebook must be trusted\n",
    "#the more stuff you do while running the script the more likely it will givwe you random errors and crash\n",
    "#these are the packages that need to be installed in your virtual environment to run the script\n",
    "%pip install webdriver-manager\n",
    "%pip install requests\n",
    "%pip install selenium\n",
    "%pip install beautifulsoup4"
   ]
  },
  {
   "cell_type": "code",
   "execution_count": null,
   "id": "3e2c4d2d",
   "metadata": {},
   "outputs": [],
   "source": [
    "from bs4 import BeautifulSoup\n",
    "import os\n",
    "import requests\n",
    "from selenium import webdriver\n",
    "from selenium.webdriver.chrome.service import Service\n",
    "from webdriver_manager.chrome import ChromeDriverManager\n",
    "import time"
   ]
  },
  {
   "cell_type": "code",
   "execution_count": null,
   "id": "241dec6a",
   "metadata": {
    "scrolled": true
   },
   "outputs": [],
   "source": [
    "#opens Instagram in Chrome window for user agent, need to login manually before running the next cell\n",
    "driver = webdriver.Chrome(ChromeDriverManager().install())\n",
    "driver.get(\"https://www.instagram.com\")"
   ]
  },
  {
   "cell_type": "code",
   "execution_count": null,
   "id": "6331d50c",
   "metadata": {},
   "outputs": [],
   "source": [
    "#you need to create a links_list.txt with all your Instagram URLs in the same folder as the Notebook\n",
    "#one line per URL\n",
    "#if using the .py or as a python file, put the absolute path to your links_list.txt to prevent issues\n",
    "#this transforms links_lists.txt in a list\n",
    "all_url = open(\"links_list.txt\", \"r\")\n",
    "data = all_url.read()\n",
    "url_list = data.split(\"\\n\")\n",
    "all_url.close()\n",
    "print(\"Link list creation successful!\")\n",
    "time.sleep(5)\n",
    "\n",
    "#iterating through list\n",
    "#if interrupts simply erase downloaded URLs\n",
    "#you can see last download in browser\n",
    "#last shown picture not downloaded (unless it was the last one in the list)\n",
    "#Still gives error when finishes links\n",
    "\n",
    "for i in url_list:\n",
    "    driver.get(i)\n",
    "    soup = BeautifulSoup(driver.page_source, 'lxml')\n",
    "    img = soup.find('img', class_='FFVAD')\n",
    "    img_url = img['src']\n",
    "    r = requests.get(img_url)\n",
    "    string = str(img_url)\n",
    "    with open(\"instagram\"+str(time.time())+\".png\",'wb') as f:\n",
    "        f.write(r.content)"
   ]
  }
 ],
 "metadata": {
  "kernelspec": {
   "display_name": "Python 3 (ipykernel)",
   "language": "python",
   "name": "python3"
  },
  "language_info": {
   "codemirror_mode": {
    "name": "ipython",
    "version": 3
   },
   "file_extension": ".py",
   "mimetype": "text/x-python",
   "name": "python",
   "nbconvert_exporter": "python",
   "pygments_lexer": "ipython3",
   "version": "3.9.7"
  }
 },
 "nbformat": 4,
 "nbformat_minor": 5
}
