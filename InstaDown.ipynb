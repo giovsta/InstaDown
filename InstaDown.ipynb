{
 "cells": [
  {
   "cell_type": "code",
   "execution_count": 1,
   "id": "cb6603da",
   "metadata": {},
   "outputs": [
    {
     "name": "stdout",
     "output_type": "stream",
     "text": [
      "Requirement already satisfied: webdriver-manager in c:\\users\\stari\\anaconda3\\lib\\site-packages (3.5.4)\n",
      "Requirement already satisfied: requests in c:\\users\\stari\\anaconda3\\lib\\site-packages (from webdriver-manager) (2.26.0)\n",
      "Requirement already satisfied: certifi>=2017.4.17 in c:\\users\\stari\\anaconda3\\lib\\site-packages (from requests->webdriver-manager) (2021.10.8)\n",
      "Requirement already satisfied: idna<4,>=2.5 in c:\\users\\stari\\anaconda3\\lib\\site-packages (from requests->webdriver-manager) (3.2)\n",
      "Requirement already satisfied: charset-normalizer~=2.0.0 in c:\\users\\stari\\anaconda3\\lib\\site-packages (from requests->webdriver-manager) (2.0.4)\n",
      "Requirement already satisfied: urllib3<1.27,>=1.21.1 in c:\\users\\stari\\anaconda3\\lib\\site-packages (from requests->webdriver-manager) (1.26.7)\n",
      "Note: you may need to restart the kernel to use updated packages.\n"
     ]
    }
   ],
   "source": [
    "#python script to download instagram image\n",
    "#if used as jupyter notebook you need to run it as administrator and this notebook must be trusted\n",
    "#the less free RAM you have, the more likely it will give you random errors and stop\n",
    "#when the script stops, you can check the open post in the Chrome tab (if it crashed it won't be downloaded), modify the .txt accordingly and continue
    "%pip install webdriver-manager"
   ]
  },
  {
   "cell_type": "code",
   "execution_count": 28,
   "id": "3e2c4d2d",
   "metadata": {},
   "outputs": [
    {
     "name": "stdout",
     "output_type": "stream",
     "text": [
      "alrighty\n"
     ]
    }
   ],
   "source": [
    "from bs4 import BeautifulSoup\n",
    "import os\n",
    "import requests\n",
    "from selenium import webdriver\n",
    "from selenium.webdriver.chrome.service import Service\n",
    "from webdriver_manager.chrome import ChromeDriverManager\n",
    "#one day all the code below will allow you to use your cookies to login\n",
    "#from selenium.webdriver.chrome.options import Options\n",
    "#chrome_options = Options()\n",
    "#chrome_options.add_argument(\"--user-data-dir=chrome-data\")\n",
    "#driver = webdriver.Chrome(options=chrome_options)\n",
    "#driver.get('https://www.instagram.com')  # Already authenticated\n",
    "import time\n",
    "print('alrighty')"
   ]
  },
  {
   "cell_type": "code",
   "execution_count": 39,
   "id": "241dec6a",
   "metadata": {
    "scrolled": true
   },
   "outputs": [
    {
     "name": "stderr",
     "output_type": "stream",
     "text": [
      "\n",
      "\n",
      "====== WebDriver manager ======\n",
      "Current google-chrome version is 101.0.4951\n",
      "Get LATEST chromedriver version for 101.0.4951 google-chrome\n",
      "Driver [C:\\Users\\STARI\\.wdm\\drivers\\chromedriver\\win32\\101.0.4951.41\\chromedriver.exe] found in cache\n",
      "C:\\Users\\STARI\\AppData\\Local\\Temp/ipykernel_7044/3566815142.py:5: DeprecationWarning: executable_path has been deprecated, please pass in a Service object\n",
      "  driver = webdriver.Chrome(ChromeDriverManager().install())\n"
     ]
    }
   ],
   "source": [
    "#opens chrome window for user agent, need to go to instagram.com and login manually, every time the Chrome tab has been closed\n",
    "\n",
    "driver = webdriver.Chrome(ChromeDriverManager().install())"
   ]
  },
  {
   "cell_type": "code",
   "execution_count": 46,
   "id": "6331d50c",
   "metadata": {},
   "outputs": [],
   "source": [
    "#you need to create a link_list.txt with all your Instagram URLs\n",
    "#one line per URL\"\n",
    "\n",
    "#this transforms link_lists.txt in URL list *remember to rerun when changing URLs\n",
    "all_url = open(\"links_list.txt\", \"r\")\n",
    "\n",
    "data = all_url.read()\n",
    "\n",
    "url_list = data.split(\"\\n\")\n",
    "\n",
    "for item in url_list:\n",
    "    print(item)\n",
    "\n",
    "all_url.close()\n",
    "\n",
    "#iterating through list\n",
    "#if interrupts simply erase downloaded URLs. you can see last download in browser\n",
    "#last shown picture not downloaded if download is not over\n",
    "# gives error when finishes links cause who cares\n",
    "\n",
    "#one day this thing will rename files to images that make actual sense\n",
    "\n",
    "for i in url_list:\n",
    "    driver.get(i)\n",
    "    soup = BeautifulSoup(driver.page_source, 'lxml')\n",
    "    img = soup.find('img', class_='FFVAD')\n",
    "    img_url = img['src']\n",
    "    r = requests.get(img_url)\n",
    "    string = str(img_url)\n",
    "    with open(\"instagram\"+str(time.time())+\".png\",'wb') as f:\n",
    "        f.write(r.content)"
   ]
  },
  {
   "cell_type": "markdown",
   "id": "ae35ca35",
   "metadata": {},
   "source": [
    "the original code I took this from\n",
    "\n",
    "\n",
    "''' ask user to input the instagram post url '''\n",
    "link = input(\"Enter Instagram Image URL: \")\n",
    "\n",
    "''' \n",
    "create a webdriver chrome object by passing the path of \"chromedriver.exe\" file.(do not include .exe in the path).\n",
    "'''\n",
    "driver = webdriver.Chrome('chromedriver')\n",
    "\n",
    "''' Open the instagram post on your chrome browser'''\n",
    "driver.get(link)\n",
    "\n",
    "''' Fetch the source file of the html page using BeautifulSoup'''\n",
    "soup = BeautifulSoup(driver.page_source, 'lxml')\n",
    "\n",
    "''' Extract the url of the image from the source code''' \n",
    "img = soup.find('img', class_='FFVAD')\n",
    "img_url = img['src']\n",
    "\n",
    "'''Download the image via the url using the requests library'''\n",
    "r = requests.get(img_url)\n",
    "\n",
    "with open(\"instagram\"+str(time.time())+\".png\",'wb') as f: \n",
    "    f.write(r.content)\n",
    "\n",
    "print('success')"
   ]
  },
  {
   "cell_type": "code",
   "execution_count": null,
   "id": "3c091564",
   "metadata": {},
   "outputs": [],
   "source": []
  },
  {
   "cell_type": "code",
   "execution_count": null,
   "id": "6d3a3d3b",
   "metadata": {},
   "outputs": [],
   "source": []
  }
 ],
 "metadata": {
  "kernelspec": {
   "display_name": "Python 3 (ipykernel)",
   "language": "python",
   "name": "python3"
  },
  "language_info": {
   "codemirror_mode": {
    "name": "ipython",
    "version": 3
   },
   "file_extension": ".py",
   "mimetype": "text/x-python",
   "name": "python",
   "nbconvert_exporter": "python",
   "pygments_lexer": "ipython3",
   "version": "3.9.7"
  }
 },
 "nbformat": 4,
 "nbformat_minor": 5
}
