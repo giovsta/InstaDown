{
 "cells": [
  {
   "cell_type": "code",
   "execution_count": null,
   "id": "cb6603da",
   "metadata": {},
   "outputs": [],
   "source": [
    "#python script to download instagram image\n",
    "#if used as jupyter notebook you need to run it as administrator and this notebook must be trusted\n",
    "#the more stuff you do while running the script the more likely it will givwe you random errors and stop\n",
    "%pip install webdriver-manager"
   ]
  },
  {
   "cell_type": "code",
   "execution_count": null,
   "id": "3e2c4d2d",
   "metadata": {},
   "outputs": [],
   "source": [
    "from bs4 import BeautifulSoup\n",
    "import os\n",
    "import requests\n",
    "from selenium import webdriver\n",
    "from selenium.webdriver.chrome.service import Service\n",
    "from webdriver_manager.chrome import ChromeDriverManager\n",
    "#one day all the code below will allow you to use your cookies to login\n",
    "#from selenium.webdriver.chrome.options import Options\n",
    "#chrome_options = Options()\n",
    "#chrome_options.add_argument(\"--user-data-dir=chrome-data\")\n",
    "#driver = webdriver.Chrome(options=chrome_options)\n",
    "#driver.get('https://www.instagram.com')  # Already authenticated\n",
    "import time"
   ]
  },
  {
   "cell_type": "code",
   "execution_count": null,
   "id": "241dec6a",
   "metadata": {
    "scrolled": true
   },
   "outputs": [],
   "source": [
    "#opens chrome window for user agent, need to go to instagram.com and login manually, for each session\n",
    "#maybe cause I have Chrome in research mode\n",
    "#driver = webdriver.Chrome('chromedriver')\n",
    "\n",
    "driver = webdriver.Chrome(ChromeDriverManager().install())"
   ]
  },
  {
   "cell_type": "code",
   "execution_count": null,
   "id": "6331d50c",
   "metadata": {},
   "outputs": [],
   "source": [
    "#you need to create a link_list.txt with all your Instagram URLs\n",
    "#one line per URL, without adding anything else. or change \"\\n\"\n",
    "\n",
    "#this transforms link_lists.txt in a list\n",
    "all_url = open(\"links_list.txt\", \"r\")\n",
    "\n",
    "data = all_url.read()\n",
    "\n",
    "url_list = data.split(\"\\n\")\n",
    "\n",
    "for item in url_list:\n",
    "    print(item)\n",
    "\n",
    "all_url.close()\n",
    "\n",
    "#iterating through list\n",
    "#if interrupts simply erase downloaded URLs. you can see last download in browser\n",
    "#last shown picture not downloaded if download is not over\n",
    "# gives error when finishes links cause who cares\n",
    "\n",
    "#one day this thing will rename files to images that make actual sense\n",
    "\n",
    "for i in url_list:\n",
    "    driver.get(i)\n",
    "    soup = BeautifulSoup(driver.page_source, 'lxml')\n",
    "    img = soup.find('img', class_='FFVAD')\n",
    "    img_url = img['src']\n",
    "    r = requests.get(img_url)\n",
    "    string = str(img_url)\n",
    "    with open(\"instagram\"+str(time.time())+\".png\",'wb') as f:\n",
    "        f.write(r.content)"
   ]
  }
 ],
 "metadata": {
  "kernelspec": {
   "display_name": "Python 3 (ipykernel)",
   "language": "python",
   "name": "python3"
  },
  "language_info": {
   "codemirror_mode": {
    "name": "ipython",
    "version": 3
   },
   "file_extension": ".py",
   "mimetype": "text/x-python",
   "name": "python",
   "nbconvert_exporter": "python",
   "pygments_lexer": "ipython3",
   "version": "3.9.7"
  }
 },
 "nbformat": 4,
 "nbformat_minor": 5
}
